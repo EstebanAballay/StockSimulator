{
 "cells": [
  {
   "cell_type": "code",
   "execution_count": 1,
   "id": "e8c192c4",
   "metadata": {
    "scrolled": true
   },
   "outputs": [],
   "source": [
    "import requests\n",
    "import yfinance as yf\n",
    "import bs4 as bs\n",
    "from collections import defaultdict\n",
    "import pandas as pd\n",
    "import datetime"
   ]
  },
  {
   "cell_type": "code",
   "execution_count": 2,
   "id": "5f3b3478",
   "metadata": {},
   "outputs": [
    {
     "name": "stdout",
     "output_type": "stream",
     "text": [
      "{'user': 'Esteban', 'money': 0, 'stocks': defaultdict(<class 'int'>, {})}\n"
     ]
    }
   ],
   "source": [
    "#Creating the user variables\n",
    "route = "C:/Users/usuario/" #Write here your route to the file, where your actions are saved\n",
    "wallet = {\"user\":\"name\",\n",
    "          \"money\":0,\n",
    "          \"stocks\": defaultdict(int)\n",
    "         }\n",
    "wallet[\"user\"]=\"Esteban\"\n",
    "print(wallet)\n",
    "#Initialize variables with previous data from the \"DataBase\" (A txt document)"
   ]
  },
  {
   "cell_type": "code",
   "execution_count": 3,
   "id": "ba265b3e",
   "metadata": {
    "scrolled": true
   },
   "outputs": [],
   "source": [
    "def readprev():\n",
    "    with open(route, \"r\") as document:\n",
    "        for line in document:\n",
    "            #Recovering the money balance\n",
    "            if line[:10]==\"MONEY SAVE\":\n",
    "                end = line.find(\"U\")\n",
    "                num = float(line[13:end])\n",
    "                wallet[\"money\"] = num\n",
    "            \n",
    "            #Recovering the shares per company\n",
    "            elif line[:12] == \"COMPANY SAVE\":\n",
    "                #Finding company name\n",
    "                start_index = 24\n",
    "                end_index = start_index\n",
    "                finded = False\n",
    "                while not finded:\n",
    "                    end_index += 1 \n",
    "                    if line[end_index]==\" \":\n",
    "                        finded = True\n",
    "                        break\n",
    "                company = line[start_index:end_index]\n",
    "                \n",
    "                #Finding shares amount\n",
    "                index1 = line.find(\"Amount: \")+8\n",
    "                amount = int(line[index1:])\n",
    "                \n",
    "                #Loading data into the initial user variables\n",
    "                wallet[\"stocks\"][company]=amount"
   ]
  },
  {
   "cell_type": "code",
   "execution_count": 4,
   "id": "10faf20a",
   "metadata": {
    "code_folding": []
   },
   "outputs": [],
   "source": [
    "def get_company_name(ticker):\n",
    "    company=yf.Ticker(ticker)\n",
    "    company_info=company.info\n",
    "    info=company_info.get(\"longBusinessSummary\")\n",
    "    return info[:info.find(\".\")]"
   ]
  },
  {
   "cell_type": "code",
   "execution_count": 5,
   "id": "47e1bbd2",
   "metadata": {},
   "outputs": [],
   "source": [
    "def save_before_close():\n",
    "    #Saves the amount of money before closing the app\n",
    "    money_amount = wallet[\"money\"]\n",
    "    register1 = f\"MONEY SAVE | {money_amount}USD \\n\"\n",
    "    with open(route, \"a\") as doc:\n",
    "            doc.write(register1)\n",
    "    \n",
    "    #Saves the actual amunt of shares before exiting\n",
    "    for item in wallet[\"stocks\"].items():\n",
    "        company = item[0]\n",
    "        amount = item[1]\n",
    "        register2 = f\"COMPANY SAVE | Company: {company} | Shares Amount: {amount} \\n\"\n",
    "        with open(route, \"a\") as doc:\n",
    "            doc.write(register2)\n",
    "        "
   ]
  },
  {
   "cell_type": "code",
   "execution_count": 6,
   "id": "10aa98c2",
   "metadata": {},
   "outputs": [],
   "source": [
    "#Writing in a txt the moves of the program,using it as a database\n",
    "\n",
    "#Function to write buy/sell movements types\n",
    "def save_buy_sell(action,money_amount,share_amount,ticker):\n",
    "    company = get_company_name(ticker)\n",
    "    \n",
    "    now = datetime.datetime.now()\n",
    "    date = now.strftime(\"%Y-%m-%d\")\n",
    "    time = now.strftime(\"%H:%M:%S\")\n",
    "              \n",
    "    register = f\"{action} | {company} | {share_amount} | {money_amount}USD | {date} | {time}\\n\"\n",
    "    with open(route, \"a\") as doc:\n",
    "        doc.write(register)\n",
    "\n",
    "#Function to write deposit movements types\n",
    "def save_deposit(money_amount):\n",
    "    now = datetime.datetime.now()\n",
    "    date = now.strftime(\"%Y-%m-%d\")\n",
    "    time = now.strftime(\"%H:%M:%S\")\n",
    "    \n",
    "    register = f\"DEPOSIT | {money_amount}USD | {date} | {time}\\n\"\n",
    "    with open(route, \"a\") as doc:\n",
    "        doc.write(register)"
   ]
  },
  {
   "cell_type": "code",
   "execution_count": 7,
   "id": "de4d68ca",
   "metadata": {
    "scrolled": false
   },
   "outputs": [],
   "source": [
    "#Printing menu:\n",
    "def menu_input():\n",
    "    print(\"-----------------------------------------\")\n",
    "    print(\"Actions:\")\n",
    "    print(\"1-Ask All stock prices from Nasdaq 100\")\n",
    "    print(\"2-Ask a specific stock price\")\n",
    "    print(\"3-Buy a stock\")\n",
    "    print(\"4-Sell a stock\")\n",
    "    print(\"5-Deposit Money\")\n",
    "    print(\"6-See Operations History\")\n",
    "    print(\"7-Check Balance\")\n",
    "    print(\"8-Check global profitability\")\n",
    "    print(\"9-Check profitabilty per stock\")\n",
    "    print(\"10-Close Program\")\n",
    "    print(\"-----------------------------------------\")\n",
    "    action = input(\"Please enter an action: \")\n",
    "    if action.isnumeric():\n",
    "        return int(action)\n",
    "    else:\n",
    "        print(\"Invalid Option \\n\")\n",
    "        return None"
   ]
  },
  {
   "cell_type": "code",
   "execution_count": 8,
   "id": "c350c524",
   "metadata": {
    "code_folding": []
   },
   "outputs": [],
   "source": [
    "def get_ticket_price(company_ticket):\n",
    "    #Getting all company information with a dict\n",
    "    company=yf.Ticker(company_ticket)\n",
    "    company_info=company.info\n",
    "    #Returning the price from that long dict\n",
    "    return company_info.get(\"currentPrice\")"
   ]
  },
  {
   "cell_type": "code",
   "execution_count": 9,
   "id": "9eb901bd",
   "metadata": {},
   "outputs": [],
   "source": [
    "def deposit_money(amount):\n",
    "    if amount.isnumeric() and int(amount) > 0:\n",
    "        wallet[\"money\"]+=int(amount)\n",
    "        save_deposit(amount)\n",
    "    else:\n",
    "        print(\"Invalid input, please enter a number > 0 \\n\")   "
   ]
  },
  {
   "cell_type": "code",
   "execution_count": 10,
   "id": "f60c706a",
   "metadata": {},
   "outputs": [],
   "source": [
    "symbol = []\n",
    "company = []\n",
    "prices = []\n",
    "def ask_all():\n",
    "    #Getting a list of all the tickets of Nasdaq 100 from Wikipedia\n",
    "    resp=requests.get(\"https://en.wikipedia.org/wiki/Nasdaq-100\")\n",
    "    resp=resp.text\n",
    "    soup = bs.BeautifulSoup(resp,\"lxml\")\n",
    "    table=soup.findAll(\"table\",{\"class\":\"wikitable\"})[3]\n",
    "\n",
    "    for row in (table.findAll(\"tr\")[1:]):\n",
    "        ticket = row.findAll('td')[1].text\n",
    "        symbol.append(ticket)\n",
    "        company.append(row.findAll(\"td\")[0].text)\n",
    "        prices.append(get_ticket_price(ticket))\n",
    "    \n",
    "    #Creating a dataframe to show the lists\n",
    "    df = pd.DataFrame(list(zip(company,symbol,prices)),\n",
    "                     columns=[\"Company\",\"Symbol\",\"Current Price\"])\n",
    "    df = df.reset_index(drop=True)\n",
    "    df = df.set_index(\"Company\")\n",
    "    \n",
    "    with pd.option_context('display.max_rows', None, 'display.max_columns', None):\n",
    "        print(df)"
   ]
  },
  {
   "cell_type": "code",
   "execution_count": 11,
   "id": "5237df71",
   "metadata": {},
   "outputs": [],
   "source": [
    "def buy_stock(ticker,amount):\n",
    "    #Check money balance\n",
    "    output=\"\"\n",
    "    price = get_ticket_price(ticker)*amount\n",
    "    if price > wallet[\"money\"]:\n",
    "        output = \"Insufficient balance,operation cancelled\"\n",
    "    else:\n",
    "        wallet[\"money\"]-=price\n",
    "        wallet[\"stocks\"][ticker]+=amount\n",
    "        save_buy_sell(\"BUY\",price,amount,ticker)\n",
    "        output=\"Operation completed successfully\"\n",
    "    return output"
   ]
  },
  {
   "cell_type": "code",
   "execution_count": 12,
   "id": "574c5d87",
   "metadata": {},
   "outputs": [],
   "source": [
    "def sell_stock(ticker,amount):\n",
    "    #Check amount\n",
    "    if ((wallet[\"stocks\"].__contains__(ticker))==False) or (amount > wallet[\"stocks\"][ticker]):\n",
    "        print(\"Insufficient amount of stocks to sell,operation cancelled\")\n",
    "    else:\n",
    "        price = amount*get_ticket_price(ticker)\n",
    "        wallet[\"money\"]+= price\n",
    "        wallet[\"stocks\"][ticker]-= amount\n",
    "        save_buy_sell(\"SELL\",price,amount,ticker)\n",
    "        if wallet[\"stocks\"][ticker]==0:\n",
    "            wallet[\"stocks\"].pop(ticker)\n",
    "        print(\"You've sold\",amount,\"shares of\",get_company_name(ticker))"
   ]
  },
  {
   "cell_type": "code",
   "execution_count": 13,
   "id": "aefcf9da",
   "metadata": {},
   "outputs": [],
   "source": [
    "def check_wallet():\n",
    "    print(\"\\n------------------------------------------------\")\n",
    "    print(\"The user\",wallet[\"user\"],\"has: \")\n",
    "    print(wallet[\"money\"],\"USD \\n\")\n",
    "    print(\"And the following stocks:\")\n",
    "    for ticker, amount in wallet[\"stocks\"].items():\n",
    "        print(ticker,\"-->\",amount)\n",
    "    print(\"------------------------------------------------\")"
   ]
  },
  {
   "cell_type": "code",
   "execution_count": 14,
   "id": "b156fc4b",
   "metadata": {},
   "outputs": [],
   "source": [
    "def history():\n",
    "    with open(route,\"r\") as document:\n",
    "        for line in document:\n",
    "            operation = line[:line.find(\"|\")-1]\n",
    "            if operation == \"BUY\" or operation==\"SELL\" or operation==\"DEPOSIT\":\n",
    "                print(line)"
   ]
  },
  {
   "cell_type": "code",
   "execution_count": 15,
   "id": "9f497d20",
   "metadata": {},
   "outputs": [],
   "source": [
    "def global_profit():\n",
    "    global_value = wallet[\"money\"]\n",
    "    for company in wallet[\"stocks\"]:\n",
    "        global_value += get_ticket_price(company)*wallet[\"stocks\"][company]\n",
    "        \n",
    "    initial_value = 0\n",
    "    with open(route,\"r\") as document:\n",
    "        for line in document:\n",
    "              if line[:7]==\"DEPOSIT\":\n",
    "                    initial_value += float(line[10:line.find(\"U\")])\n",
    "                    \n",
    "    profit = round(((global_value/initial_value)-1)*100,2)\n",
    "    print(\"Your profit is: \",profit,\"%\")"
   ]
  },
  {
   "cell_type": "code",
   "execution_count": null,
   "id": "b57686a2",
   "metadata": {
    "scrolled": false
   },
   "outputs": [
    {
     "name": "stdout",
     "output_type": "stream",
     "text": [
      "Welcome to Investing Simulator\n",
      "-----------------------------------------\n",
      "Actions:\n",
      "1-Ask All stock prices from Nasdaq 100\n",
      "2-Ask a specific stock price\n",
      "3-Buy a stock\n",
      "4-Sell a stock\n",
      "5-Deposit Money\n",
      "6-See Operations History\n",
      "7-Check Balance\n",
      "8-Check global profitability\n",
      "9-Check profitabilty per stock\n",
      "10-Close Program\n",
      "-----------------------------------------\n"
     ]
    }
   ],
   "source": [
    "#Main Loop\n",
    "print(\"Welcome to Investing Simulator\")\n",
    "readprev()\n",
    "while True:\n",
    "    action = menu_input()\n",
    "    if action==1:\n",
    "        print(\"Please wait, this can take a while, some prices may not be available...\")\n",
    "        ask_all()\n",
    "    elif action==2:\n",
    "        company = input(\"Please enter the company ticket you want to check: \")\n",
    "        price = get_ticket_price(company)\n",
    "        print(\"\\n The price per share of your company is $\",price,\"\\n\")\n",
    "    elif action==3:\n",
    "        ticker = input(\"Enter the ticker of  the company you want to buy: \")\n",
    "        amount = input(\"How many units? \")\n",
    "        if amount.isdigit(): \n",
    "            print(buy_stock(ticker,int(amount)))\n",
    "        else:\n",
    "            print(\"Please enter a integer number for the amount.\")\n",
    "    elif action==4:\n",
    "        #Sell stock\n",
    "        ticker = input(\"Enter the ticker of the compay you'd like to sell: \")\n",
    "        amount = int(input(\"Enter the amount of shares to sell: \"))\n",
    "        sell_stock(ticker,amount)\n",
    "    elif action==5:\n",
    "        amount=input(\"Please enter an amount of money to deposit in your account: \")#\n",
    "        deposit_money(amount)\n",
    "        print(\"Now, the current balance is:\",wallet[\"money\"],\"\\n\")\n",
    "    elif action==6:\n",
    "        history()\n",
    "    elif action==7:\n",
    "        check_wallet()\n",
    "    elif action==8:\n",
    "        global_profit()\n",
    "    elif action==9:\n",
    "        print(\"Future code\")\n",
    "    elif action==10:\n",
    "        save_before_close()\n",
    "        print(\"Execution finished\")\n",
    "        break"
   ]
  }
 ],
 "metadata": {
  "kernelspec": {
   "display_name": "Python 3 (ipykernel)",
   "language": "python",
   "name": "python3"
  },
  "language_info": {
   "codemirror_mode": {
    "name": "ipython",
    "version": 3
   },
   "file_extension": ".py",
   "mimetype": "text/x-python",
   "name": "python",
   "nbconvert_exporter": "python",
   "pygments_lexer": "ipython3",
   "version": "3.9.12"
  },
  "toc": {
   "base_numbering": 1,
   "nav_menu": {},
   "number_sections": true,
   "sideBar": true,
   "skip_h1_title": false,
   "title_cell": "Table of Contents",
   "title_sidebar": "Contents",
   "toc_cell": false,
   "toc_position": {},
   "toc_section_display": true,
   "toc_window_display": false
  }
 },
 "nbformat": 4,
 "nbformat_minor": 5
}
